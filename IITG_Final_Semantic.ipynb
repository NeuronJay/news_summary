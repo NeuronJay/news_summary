{
  "nbformat": 4,
  "nbformat_minor": 0,
  "metadata": {
    "kernelspec": {
      "display_name": "Python 3",
      "language": "python",
      "name": "python3"
    },
    "language_info": {
      "codemirror_mode": {
        "name": "ipython",
        "version": 3
      },
      "file_extension": ".py",
      "mimetype": "text/x-python",
      "name": "python",
      "nbconvert_exporter": "python",
      "pygments_lexer": "ipython3",
      "version": "3.6.8"
    },
    "colab": {
      "name": "IITG_Final_Semantic.ipynb",
      "provenance": [],
      "machine_shape": "hm",
      "include_colab_link": true
    }
  },
  "cells": [
    {
      "cell_type": "markdown",
      "metadata": {
        "id": "view-in-github",
        "colab_type": "text"
      },
      "source": [
        "<a href=\"https://colab.research.google.com/github/NeuronJay/news_summary/blob/master/IITG_Final_Semantic.ipynb\" target=\"_parent\"><img src=\"https://colab.research.google.com/assets/colab-badge.svg\" alt=\"Open In Colab\"/></a>"
      ]
    },
    {
      "cell_type": "markdown",
      "metadata": {
        "id": "nQGYnYdHe-PJ",
        "colab_type": "text"
      },
      "source": [
        "This notebook as mentioned uses the sentence embeddings from Universal Sentence Encoder and the various links and third party apps that have been used in the notebook are mentioned thereafter.\n",
        "\n",
        "Necessary titles and code flow has been explained in the text blocks in the notebook. Apart from that, explanation, logic and other details has been mentioned in the doc file differently. "
      ]
    },
    {
      "cell_type": "code",
      "metadata": {
        "id": "Xm9vH2Ff5HxK",
        "colab_type": "code",
        "colab": {}
      },
      "source": [
        "# Install the latest Tensorflow version.\n",
        "!pip3 install --quiet \"tensorflow>=1.7\"\n",
        "# Install TF-Hub.\n",
        "!pip3 install --quiet tensorflow-hub\n",
        "!pip3 install --quiet seaborn"
      ],
      "execution_count": 0,
      "outputs": []
    },
    {
      "cell_type": "code",
      "metadata": {
        "id": "OtVyFE9he-PR",
        "colab_type": "code",
        "colab": {}
      },
      "source": [
        "from absl import logging\n",
        "\n",
        "import numpy as np\n",
        "import tensorflow as tf\n",
        "import tensorflow_hub as hub\n",
        "import nltk\n",
        "import re\n",
        "import json\n",
        "\n",
        "import matplotlib.pyplot as plt\n",
        "import numpy as np\n",
        "import os\n",
        "import pandas as pd"
      ],
      "execution_count": 0,
      "outputs": []
    },
    {
      "cell_type": "markdown",
      "metadata": {
        "id": "OEOYsB9Ke-Pe",
        "colab_type": "text"
      },
      "source": [
        "The Universal Sentence Encoder encodes text into high dimensional vectors that can be used for text classification, semantic similarity and thus I have tried using it.\n"
      ]
    },
    {
      "cell_type": "code",
      "metadata": {
        "id": "O5mRFhcZe-Pj",
        "colab_type": "code",
        "cellView": "both",
        "colab": {}
      },
      "source": [
        "module_url = \"https://tfhub.dev/google/universal-sentence-encoder-large/3\" #@param [\"https://tfhub.dev/google/universal-sentence-encoder/2\", \"https://tfhub.dev/google/universal-sentence-encoder-large/3\"]"
      ],
      "execution_count": 0,
      "outputs": []
    },
    {
      "cell_type": "code",
      "metadata": {
        "id": "Ob-je5INe-Pr",
        "colab_type": "code",
        "colab": {}
      },
      "source": [
        "embed = hub.Module(module_url)"
      ],
      "execution_count": 0,
      "outputs": []
    },
    {
      "cell_type": "code",
      "metadata": {
        "id": "WdsI6FF5hbf3",
        "colab_type": "code",
        "outputId": "5cb45054-5beb-4a47-dcdc-81c271c8107e",
        "colab": {
          "base_uri": "https://localhost:8080/",
          "height": 54
        }
      },
      "source": [
        "url = 'https://github.com/NeuronJay/news_summary/blob/master/news_summary.csv'\n",
        "ds = pd.read_csv(url, error_bad_lines=False)"
      ],
      "execution_count": 0,
      "outputs": [
        {
          "output_type": "stream",
          "text": [
            "b'Skipping line 78: expected 1 fields, saw 7\\nSkipping line 129: expected 1 fields, saw 3\\nSkipping line 146: expected 1 fields, saw 9\\nSkipping line 147: expected 1 fields, saw 3\\nSkipping line 171: expected 1 fields, saw 4\\nSkipping line 175: expected 1 fields, saw 2\\nSkipping line 177: expected 1 fields, saw 2\\nSkipping line 178: expected 1 fields, saw 2\\nSkipping line 179: expected 1 fields, saw 2\\nSkipping line 180: expected 1 fields, saw 2\\nSkipping line 181: expected 1 fields, saw 2\\nSkipping line 182: expected 1 fields, saw 2\\nSkipping line 183: expected 1 fields, saw 2\\nSkipping line 184: expected 1 fields, saw 2\\nSkipping line 185: expected 1 fields, saw 2\\nSkipping line 186: expected 1 fields, saw 2\\nSkipping line 190: expected 1 fields, saw 2\\nSkipping line 191: expected 1 fields, saw 2\\nSkipping line 197: expected 1 fields, saw 2\\nSkipping line 205: expected 1 fields, saw 4\\nSkipping line 211: expected 1 fields, saw 2\\nSkipping line 216: expected 1 fields, saw 2\\nSkipping line 217: expected 1 fields, saw 2\\nSkipping line 218: expected 1 fields, saw 2\\nSkipping line 219: expected 1 fields, saw 2\\nSkipping line 220: expected 1 fields, saw 2\\nSkipping line 225: expected 1 fields, saw 2\\nSkipping line 226: expected 1 fields, saw 2\\nSkipping line 227: expected 1 fields, saw 2\\nSkipping line 234: expected 1 fields, saw 2\\nSkipping line 242: expected 1 fields, saw 4\\nSkipping line 247: expected 1 fields, saw 2\\nSkipping line 250: expected 1 fields, saw 2\\nSkipping line 251: expected 1 fields, saw 2\\nSkipping line 255: expected 1 fields, saw 2\\nSkipping line 256: expected 1 fields, saw 2\\nSkipping line 278: expected 1 fields, saw 2\\nSkipping line 415: expected 1 fields, saw 9\\nSkipping line 416: expected 1 fields, saw 3\\nSkipping line 421: expected 1 fields, saw 9\\nSkipping line 422: expected 1 fields, saw 3\\nSkipping line 469: expected 1 fields, saw 9\\nSkipping line 480: expected 1 fields, saw 9\\nSkipping line 492: expected 1 fields, saw 9\\nSkipping line 625: expected 1 fields, saw 3\\nSkipping line 629: expected 1 fields, saw 3\\nSkipping line 630: expected 1 fields, saw 11\\nSkipping line 699: expected 1 fields, saw 2\\nSkipping line 765: expected 1 fields, saw 2\\nSkipping line 797: expected 1 fields, saw 2\\nSkipping line 798: expected 1 fields, saw 3\\nSkipping line 799: expected 1 fields, saw 3\\nSkipping line 800: expected 1 fields, saw 3\\nSkipping line 801: expected 1 fields, saw 3\\nSkipping line 802: expected 1 fields, saw 3\\nSkipping line 809: expected 1 fields, saw 3\\nSkipping line 810: expected 1 fields, saw 3\\nSkipping line 811: expected 1 fields, saw 3\\nSkipping line 812: expected 1 fields, saw 3\\nSkipping line 813: expected 1 fields, saw 3\\nSkipping line 814: expected 1 fields, saw 3\\n'\n"
          ],
          "name": "stderr"
        }
      ]
    },
    {
      "cell_type": "code",
      "metadata": {
        "id": "AEczh-hchqtC",
        "colab_type": "code",
        "outputId": "da35ab44-2bff-4db8-b98d-b719525edc15",
        "colab": {
          "base_uri": "https://localhost:8080/",
          "height": 122
        }
      },
      "source": [
        "ds.info()"
      ],
      "execution_count": 0,
      "outputs": [
        {
          "output_type": "stream",
          "text": [
            "<class 'pandas.core.frame.DataFrame'>\n",
            "RangeIndex: 566 entries, 0 to 565\n",
            "Data columns (total 1 columns):\n",
            "<!DOCTYPE html>    566 non-null object\n",
            "dtypes: object(1)\n",
            "memory usage: 4.5+ KB\n"
          ],
          "name": "stdout"
        }
      ]
    },
    {
      "cell_type": "code",
      "metadata": {
        "id": "KUa4d7mEe-P1",
        "colab_type": "code",
        "colab": {}
      },
      "source": [
        "def input_feats(text_info):\n",
        "    if type(text_info) is str:\n",
        "        text_info = [text_info]\n",
        "    with tf.Session() as sess:\n",
        "        sess.run([tf.global_variables_initializer(), tf.tables_initializer()])\n",
        "        return sess.run(embed(text_info))\n",
        "    "
      ],
      "execution_count": 0,
      "outputs": []
    },
    {
      "cell_type": "markdown",
      "metadata": {
        "id": "tjJDAvUdpfsz",
        "colab_type": "text"
      },
      "source": [
        "Eliminating the stopwords "
      ]
    },
    {
      "cell_type": "code",
      "metadata": {
        "id": "etXXnopfpcR3",
        "colab_type": "code",
        "colab": {}
      },
      "source": [
        "def rem_stopwords(stop_words, tokens):\n",
        "    res = []\n",
        "    for token in tokens:\n",
        "        if not token in stop_words:\n",
        "            res.append(token)\n",
        "    return res"
      ],
      "execution_count": 0,
      "outputs": []
    },
    {
      "cell_type": "markdown",
      "metadata": {
        "id": "ADKeKmZfpqvZ",
        "colab_type": "text"
      },
      "source": [
        "This is the list of contractions and their expanded versions, made by me."
      ]
    },
    {
      "cell_type": "code",
      "metadata": {
        "id": "u6kmv86cpz6G",
        "colab_type": "code",
        "colab": {}
      },
      "source": [
        "contra = {\"y'all\": \"you all\",\"y'all'd\": \"you all would\",\"y'all'd've\": \"you all would have\",\"y'all're\": \"you all are\",\"y'all've\": \"you all have\",\n",
        "                           \"you'd\": \"you would\", \"you'd've\": \"you would have\", \"you'll\": \"you will\", \"you'll've\": \"you will have\",\n",
        "                           \"you're\": \"you are\", \"you've\": \"you have\",\"ain't\": \"is not\", \"aren't\": \"are not\",\"can't\": \"cannot\", \"'cause\": \"because\", \"could've\": \"could have\", \"couldn't\": \"could not\",\n",
        "                           \"didn't\": \"did not\",  \"doesn't\": \"does not\", \"don't\": \"do not\", \"hadn't\": \"had not\", \"hasn't\": \"has not\", \"haven't\": \"have not\",\n",
        "                           \"he'd\": \"he would\",\"he'll\": \"he will\", \"he's\": \"he is\", \"how'd\": \"how did\", \"how'd'y\": \"how do you\", \"how'll\": \"how will\", \"how's\": \"how is\",\n",
        "                           \"I'd\": \"I would\", \"I'd've\": \"I would have\", \"I'll\": \"I will\", \"I'll've\": \"I will have\",\"I'm\": \"I am\", \"I've\": \"I have\", \"i'd\": \"i would\",\n",
        "                           \"i'd've\": \"i would have\", \"i'll\": \"i will\",  \"i'll've\": \"i will have\",\"i'm\": \"i am\", \"i've\": \"i have\", \"isn't\": \"is not\", \"it'd\": \"it would\",\n",
        "                           \"it'd've\": \"it would have\", \"it'll\": \"it will\", \"it'll've\": \"it will have\",\"it's\": \"it is\", \"let's\": \"let us\", \"ma'am\": \"madam\",\n",
        "                           \"mayn't\": \"may not\", \"might've\": \"might have\",\"mightn't\": \"might not\",\"mightn't've\": \"might not have\", \"must've\": \"must have\",\n",
        "                           \"mustn't\": \"must not\", \"mustn't've\": \"must not have\", \"needn't\": \"need not\", \"needn't've\": \"need not have\",\"o'clock\": \"of the clock\",\n",
        "                           \"oughtn't\": \"ought not\", \"oughtn't've\": \"ought not have\", \"shan't\": \"shall not\", \"sha'n't\": \"shall not\", \"shan't've\": \"shall not have\",\n",
        "                           \"she'd\": \"she would\", \"she'd've\": \"she would have\", \"she'll\": \"she will\", \"she'll've\": \"she will have\", \"she's\": \"she is\",\n",
        "                           \"should've\": \"should have\", \"shouldn't\": \"should not\", \"shouldn't've\": \"should not have\", \"so've\": \"so have\",\"so's\": \"so as\",\n",
        "                           \"this's\": \"this is\",\"that'd\": \"that would\", \"that'd've\": \"that would have\", \"that's\": \"that is\", \"there'd\": \"there would\",\n",
        "                           \"there'd've\": \"there would have\", \"there's\": \"there is\", \"here's\": \"here is\",\"they'd\": \"they would\", \"they'd've\": \"they would have\",\n",
        "                           \"they'll\": \"they will\", \"they'll've\": \"they will have\", \"they're\": \"they are\", \"they've\": \"they have\", \"to've\": \"to have\",\n",
        "                           \"wasn't\": \"was not\", \"we'd\": \"we would\", \"we'd've\": \"we would have\", \"we'll\": \"we will\", \"we'll've\": \"we will have\", \"we're\": \"we are\",\n",
        "                           \"we've\": \"we have\", \"weren't\": \"were not\", \"what'll\": \"what will\", \"what'll've\": \"what will have\", \"what're\": \"what are\",\n",
        "                           \"what's\": \"what is\", \"what've\": \"what have\", \"when's\": \"when is\", \"when've\": \"when have\", \"where'd\": \"where did\", \"where's\": \"where is\",\n",
        "                           \"where've\": \"where have\", \"who'll\": \"who will\", \"who'll've\": \"who will have\", \"who's\": \"who is\", \"who've\": \"who have\",\n",
        "                           \"why's\": \"why is\", \"why've\": \"why have\", \"will've\": \"will have\", \"won't\": \"will not\", \"won't've\": \"will not have\",\n",
        "                           \"would've\": \"would have\", \"wouldn't\": \"would not\", \"wouldn't've\": \"would not have\"}"
      ],
      "execution_count": 0,
      "outputs": []
    },
    {
      "cell_type": "markdown",
      "metadata": {
        "id": "GO5rvmFXvaph",
        "colab_type": "text"
      },
      "source": [
        "The process here used is the find and replace regular expression in the python. Whitespaces, irregular non-text words,symbols have been replaced with white spaces and the expansion-contraction mapping leads to a complete word from the given expression."
      ]
    },
    {
      "cell_type": "code",
      "metadata": {
        "id": "3ZANae45uBSy",
        "colab_type": "code",
        "colab": {}
      },
      "source": [
        "def cleanup_text(text):\n",
        "    text = text.encode('ascii', errors='ignore').decode()\n",
        "    text = text.lower()\n",
        "    text = re.sub(r'http\\S+', ' ', text)\n",
        "    text = re.sub(r'#+', ' ', text )\n",
        "    text = re.sub('\"','', text)\n",
        "\n",
        "    #contra used ( contraction mapping )\n",
        "    text = ' '.join([contra[t] if t in contra else t for t in text.split(\" \")]) \n",
        "\n",
        "    text = re.sub(r'@[A-Za-z0-9]+', ' ', text)\n",
        "    text = re.sub(r\"([A-Za-z]+)'s\", r\"\\1 is\", text)\n",
        "    #text = re.sub(r\"\\'s\", \" \", text)\n",
        "\n",
        "    text = re.sub('\\W', ' ', text)\n",
        "    text = re.sub(r'\\d+', ' ', text)\n",
        "    text = re.sub('\\s+', ' ', text)\n",
        "    text = text.strip()\n",
        "\n",
        "    return text"
      ],
      "execution_count": 0,
      "outputs": []
    },
    {
      "cell_type": "code",
      "metadata": {
        "id": "JmBQtiF5zzpa",
        "colab_type": "code",
        "outputId": "ecc597c9-e67f-4316-988a-17a79d5d9d13",
        "colab": {
          "base_uri": "https://localhost:8080/",
          "height": 34
        }
      },
      "source": [
        "def process_all(text):\n",
        "    text = cleanup_text(text)\n",
        "    return ' '.join(rem_stopwords(stop_words, text.split()))\n",
        "\n",
        "cleanup_text(\"Hello!! Jay + Dev @ IIT Guwahati !How are you???\")"
      ],
      "execution_count": 0,
      "outputs": [
        {
          "output_type": "execute_result",
          "data": {
            "text/plain": [
              "'hello jay dev iit guwahati how are you'"
            ]
          },
          "metadata": {
            "tags": []
          },
          "execution_count": 118
        }
      ]
    },
    {
      "cell_type": "code",
      "metadata": {
        "id": "w81mee0iijFz",
        "colab_type": "code",
        "colab": {}
      },
      "source": [
        ""
      ],
      "execution_count": 0,
      "outputs": []
    },
    {
      "cell_type": "markdown",
      "metadata": {
        "id": "eeU-9reQ0rew",
        "colab_type": "text"
      },
      "source": [
        "After the process if tokenization is over, I have reduced the words in the specific ergonomic or original form using the WordNetLemmatizer."
      ]
    },
    {
      "cell_type": "code",
      "metadata": {
        "id": "HKVc1KK_xBrC",
        "colab_type": "code",
        "colab": {}
      },
      "source": [
        "def lemmatize_text(tokens):\n",
        "    lemmatizer = nltk.stem.WordNetLemmatizer()\n",
        "    lemma_list = []\n",
        "    for token in tokens:\n",
        "        lemma = lemmatizer.lemmatize_text(token, 'v')\n",
        "        if lemma == token:\n",
        "            lemma = lemmatizer.lemmatize_text(token)\n",
        "        lemma_list.append(lemma)\n",
        "    # return [ lemmatizer.lemmatize(token, 'v') for token in tokens ]\n",
        "    return lemma_list"
      ],
      "execution_count": 0,
      "outputs": []
    },
    {
      "cell_type": "code",
      "metadata": {
        "id": "hrOyFGjee-QH",
        "colab_type": "code",
        "colab": {}
      },
      "source": [
        "data = [ \"\"\"A monopoly is a firm who is the sole seller of its product, and where there are no close substitutes. An unregulated monopoly has market power and can influence prices. Examples: Microsoft and Windows, DeBeers and diamonds, your local natural gas company.\"\"\",\n",
        "    \"\"\"Pure or perfect competition is a theoretical market structure in which the following criteria are met: All firms sell an identical product (the product is a \"commodity\" or \"homogeneous\"). All firms are price takers (they cannot influence the market price of their product). Market share has no influence on prices. \"\"\",\n",
        "   \n",
        "  \"\"\"Economics is our relationship with ourselves, \n",
        "\n",
        "How we use our time, what we do for leisure, our pace,\n",
        "\n",
        "Our ratio of being to doing,\n",
        "\n",
        "Our connection to our passions, our hobbies,\n",
        "\n",
        "That which we can call our own.\n",
        "\n",
        "Our locus of control,\n",
        "\n",
        "Our sense of self-worth, \n",
        "\n",
        "Our relationship with time, seasons,\n",
        "\n",
        "How we define our identity,\n",
        "\n",
        "Our past, the quality of our present, how we envision our future.\n",
        "\n",
        "Our freedoms, our constraints,\n",
        "\n",
        "How we meet our needs,\n",
        "\n",
        "Our role in society, our mythopoetic identity.\n",
        "\n",
        "Economics defines and limits our power, our status.\n",
        "\n",
        "Economics gives us voice, votes.\n",
        "\n",
        "Economics is our relationship to each other,\n",
        "\n",
        "Whether we see each other as collaborators or competitors, separate or interconnected.\n",
        "\n",
        "Economics is our level of trust and the quality of our interactions,\n",
        "\n",
        "How we manage our housework, our child rearing,\n",
        "\n",
        "How we care and get cared for,\n",
        "\n",
        "What we give and what we get,\n",
        "\n",
        "Economics is our relationship to Earth,\n",
        "\n",
        "Our connection to land,\n",
        "\n",
        "Our sense of belonging,\n",
        "\n",
        "What we build and how we build it,\n",
        "\n",
        "What and how we eat, where our food comes from, and what happens to our waste.\n",
        "\n",
        "Whether we see the natural world as a supply house or sewer,\n",
        "\n",
        "A battlefield or lover,\n",
        "\n",
        "An animate being or our larger Self.\n",
        "\n",
        "Economics alienates, subjugates, co-creates, and empowers,\n",
        "\n",
        "Economics is myth and fact, crisis and opportunity, alive and lifeless,\n",
        "\n",
        "What is not economics?\n",
        "\n",
        "Economics is not simply the bottom line, the marketplace, the true cost, or the bank note,\n",
        "\n",
        "It’s not our first kiss,\n",
        "\n",
        "Our dreams, \n",
        "\n",
        "Our death,\n",
        "\n",
        "Or the conversations between trees. \n",
        "\n",
        "Economics is how we make meaning.\"\"\",\n",
        "\n",
        "    \"\"\"Sometimes, firms may try to remove uncertainty related to acting independently and enter into price agreements with each other. This is collusion. Collusion is either formal or informal. It can take the form of cartel or price leadership.\n",
        "A cartel is an association of independent firms within the same industry which follow the common policies relating to price, output, sale, profit maximization, and the distribution of products.\n",
        "Price leadership is based on informed collusion. Under price leadership, one firm is a large or dominant firm and acts as the price leader who fixes the price for the products while the other firms allow it.\"\"\",\n",
        "   \n",
        "    \"\"\"Oligopoly is a market structure with a small number of firms, none of which can keep the others from having significant influence. The concentration ratio measures the market share of the largest firms. A monopoly is one firm, duopoly is two firms and oligopoly is two or more firms.\"\"\",\n",
        "    \"\"\"At least 400 languages or more than half languages spoken by India's 1.3 billion people may die out in next 50 years, a study by the People's Linguistic Survey of India (PSLI) stated. Further claiming that India has already lost 250 languages in last five decades, the survey said, \"Each time a language is lost, the corresponding culture is killed.\"\"\"\n",
        "]"
      ],
      "execution_count": 0,
      "outputs": []
    },
    {
      "cell_type": "markdown",
      "metadata": {
        "id": "9XNs98x_e-QO",
        "colab_type": "text"
      },
      "source": [
        "Keeping up a tab of the workflow of the things ! \n"
      ]
    },
    {
      "cell_type": "code",
      "metadata": {
        "id": "KhmPqRY6e-QR",
        "colab_type": "code",
        "outputId": "e7981a45-6f0d-473e-d182-bc4fecf6bcb9",
        "colab": {
          "base_uri": "https://localhost:8080/",
          "height": 34
        }
      },
      "source": [
        "data_pre = list(map(cleanup_text, data))\n",
        "len(data_pre)\n"
      ],
      "execution_count": 0,
      "outputs": [
        {
          "output_type": "execute_result",
          "data": {
            "text/plain": [
              "6"
            ]
          },
          "metadata": {
            "tags": []
          },
          "execution_count": 121
        }
      ]
    },
    {
      "cell_type": "code",
      "metadata": {
        "id": "IOFJEdiDXu_z",
        "colab_type": "code",
        "outputId": "933583cc-0df9-41a0-8a58-885d55036a42",
        "colab": {
          "base_uri": "https://localhost:8080/",
          "height": 142
        }
      },
      "source": [
        "data_pre\n"
      ],
      "execution_count": 0,
      "outputs": [
        {
          "output_type": "execute_result",
          "data": {
            "text/plain": [
              "['a monopoly is a firm who is the sole seller of its product and where there are no close substitutes an unregulated monopoly has market power and can influence prices examples microsoft and windows debeers and diamonds your local natural gas company',\n",
              " 'pure or perfect competition is a theoretical market structure in which the following criteria are met all firms sell an identical product the product is a commodity or homogeneous all firms are price takers they cannot influence the market price of their product market share has no influence on prices',\n",
              " 'economics is our relationship with ourselves how we use our time what we do for leisure our pace our ratio of being to doing our connection to our passions our hobbies that which we can call our own our locus of control our sense of self worth our relationship with time seasons how we define our identity our past the quality of our present how we envision our future our freedoms our constraints how we meet our needs our role in society our mythopoetic identity economics defines and limits our power our status economics gives us voice votes economics is our relationship to each other whether we see each other as collaborators or competitors separate or interconnected economics is our level of trust and the quality of our interactions how we manage our housework our child rearing how we care and get cared for what we give and what we get economics is our relationship to earth our connection to land our sense of belonging what we build and how we build it what and how we eat where our food comes from and what happens to our waste whether we see the natural world as a supply house or sewer a battlefield or lover an animate being or our larger self economics alienates subjugates co creates and empowers economics is myth and fact crisis and opportunity alive and lifeless what is not economics economics is not simply the bottom line the marketplace the true cost or the bank note its not our first kiss our dreams our death or the conversations between trees economics is how we make meaning',\n",
              " 'sometimes firms may try to remove uncertainty related to acting independently and enter into price agreements with each other this is collusion collusion is either formal or informal it can take the form of cartel or price leadership a cartel is an association of independent firms within the same industry which follow the common policies relating to price output sale profit maximization and the distribution of products price leadership is based on informed collusion under price leadership one firm is a large or dominant firm and acts as the price leader who fixes the price for the products while the other firms allow it',\n",
              " 'oligopoly is a market structure with a small number of firms none of which can keep the others from having significant influence the concentration ratio measures the market share of the largest firms a monopoly is one firm duopoly is two firms and oligopoly is two or more firms',\n",
              " 'at least languages or more than half languages spoken by india is billion people may die out in next years a study by the people is linguistic survey of india psli stated further claiming that india has already lost languages in last five decades the survey said each time a language is lost the corresponding culture is killed']"
            ]
          },
          "metadata": {
            "tags": []
          },
          "execution_count": 122
        }
      ]
    },
    {
      "cell_type": "markdown",
      "metadata": {
        "id": "aL2bcQszXdyl",
        "colab_type": "text"
      },
      "source": [
        "This is the inital trial method taken, where i used the first 200 words of the geven text document."
      ]
    },
    {
      "cell_type": "code",
      "metadata": {
        "id": "R1J0GUunXb0g",
        "colab_type": "code",
        "outputId": "fe28579a-6309-42bf-f282-bb804587023c",
        "colab": {
          "base_uri": "https://localhost:8080/",
          "height": 142
        }
      },
      "source": [
        "[d[:200] for d in data_pre ]"
      ],
      "execution_count": 0,
      "outputs": [
        {
          "output_type": "execute_result",
          "data": {
            "text/plain": [
              "['a monopoly is a firm who is the sole seller of its product and where there are no close substitutes an unregulated monopoly has market power and can influence prices examples microsoft and windows deb',\n",
              " 'pure or perfect competition is a theoretical market structure in which the following criteria are met all firms sell an identical product the product is a commodity or homogeneous all firms are price ',\n",
              " 'economics is our relationship with ourselves how we use our time what we do for leisure our pace our ratio of being to doing our connection to our passions our hobbies that which we can call our own o',\n",
              " 'sometimes firms may try to remove uncertainty related to acting independently and enter into price agreements with each other this is collusion collusion is either formal or informal it can take the f',\n",
              " 'oligopoly is a market structure with a small number of firms none of which can keep the others from having significant influence the concentration ratio measures the market share of the largest firms ',\n",
              " 'at least languages or more than half languages spoken by india is billion people may die out in next years a study by the people is linguistic survey of india psli stated further claiming that india h']"
            ]
          },
          "metadata": {
            "tags": []
          },
          "execution_count": 123
        }
      ]
    },
    {
      "cell_type": "markdown",
      "metadata": {
        "id": "fovmPmYPNuOv",
        "colab_type": "text"
      },
      "source": [
        "I have planned to plot an approximate of the length of the reviews to get an overall idea about the distribution of length of the text."
      ]
    },
    {
      "cell_type": "code",
      "metadata": {
        "id": "XN75Gxd-OdxY",
        "colab_type": "code",
        "outputId": "a28a5ca9-9532-4725-97ba-9fe184335c92",
        "colab": {
          "base_uri": "https://localhost:8080/",
          "height": 281
        }
      },
      "source": [
        "text_word_count = []\n",
        "\n",
        "for i in data_pre:\n",
        "      text_word_count.append(len(i.split()))\n",
        "\n",
        "length_df = pd.DataFrame({'text':text_word_count})\n",
        "\n",
        "length_df.hist(bins = 30)\n",
        "plt.show()"
      ],
      "execution_count": 0,
      "outputs": [
        {
          "output_type": "display_data",
          "data": {
            "image/png": "[encoded data removed]",
            "text/plain": [
              "<Figure size 432x288 with 1 Axes>"
            ]
          },
          "metadata": {
            "tags": []
          }
        }
      ]
    },
    {
      "cell_type": "code",
      "metadata": {
        "id": "q1gPpcjCQD_V",
        "colab_type": "code",
        "outputId": "a6c901d8-2083-4b79-a1a3-26214d1721cb",
        "colab": {
          "base_uri": "https://localhost:8080/",
          "height": 34
        }
      },
      "source": [
        "cnt=0\n",
        "for i in data_pre:\n",
        "    if(len(i.split())<=250):\n",
        "        cnt=cnt+1\n",
        "print(cnt/len(data_pre))"
      ],
      "execution_count": 0,
      "outputs": [
        {
          "output_type": "stream",
          "text": [
            "0.8333333333333334\n"
          ],
          "name": "stdout"
        }
      ]
    },
    {
      "cell_type": "markdown",
      "metadata": {
        "id": "mK-tiaZ4r3Pt",
        "colab_type": "text"
      },
      "source": [
        "We can fix the maximum length of the document as around 250 majority of document summary length.\n",
        "\n",
        "Assuming the summaries to be one fifth of the sizes.\n",
        "Thus, the abstractive summaries that can be developed can be fixed at 50.\n"
      ]
    },
    {
      "cell_type": "markdown",
      "metadata": {
        "id": "G38vW4Jz_sOq",
        "colab_type": "text"
      },
      "source": [
        "The BASE_VECTORS representation of text in latent space is required as I need to vectorize the texts.\n",
        "The length of each vector is 512.\n",
        "Here the dimension of the vector as shown in below code output. \n",
        "\n",
        "There are basic approaches that we get. In order to create a vector that contains the encoding of the sentence,one can concatenate the one-hot vectors for each word. But, the limitation is that there is no relationship between the similarity of any two words and the similarity of their encodings, this feature-weight combination is not meaningful !\n",
        "\n",
        "\n"
      ]
    },
    {
      "cell_type": "code",
      "metadata": {
        "id": "dDZ7zvuXe-Qx",
        "colab_type": "code",
        "outputId": "e07fe44e-4631-4a70-93bf-7ca537e3942d",
        "colab": {
          "base_uri": "https://localhost:8080/",
          "height": 70
        }
      },
      "source": [
        "BASE_VECTORS = input_feats(data)\n",
        "BASE_VECTORS.shape\n"
      ],
      "execution_count": 0,
      "outputs": [
        {
          "output_type": "stream",
          "text": [
            "INFO:tensorflow:Saver not created because there are no variables in the graph to restore\n"
          ],
          "name": "stdout"
        },
        {
          "output_type": "stream",
          "text": [
            "INFO:tensorflow:Saver not created because there are no variables in the graph to restore\n"
          ],
          "name": "stderr"
        },
        {
          "output_type": "execute_result",
          "data": {
            "text/plain": [
              "(6, 512)"
            ]
          },
          "metadata": {
            "tags": []
          },
          "execution_count": 126
        }
      ]
    },
    {
      "cell_type": "markdown",
      "metadata": {
        "id": "3GxTdrV_e-Q4",
        "colab_type": "text"
      },
      "source": [
        "I define cosine similarity to find simiarity between two vectors."
      ]
    },
    {
      "cell_type": "code",
      "metadata": {
        "id": "Kq_uHOi1e-Q9",
        "colab_type": "code",
        "colab": {}
      },
      "source": [
        "def cosine_similarity(v1, v2):\n",
        "    mag1 = np.linalg.norm(v1)\n",
        "    mag2 = np.linalg.norm(v2)\n",
        "    if (not mag1) or (not mag2):\n",
        "        return 0\n",
        "    return np.dot(v1, v2) / (mag1 * mag2)"
      ],
      "execution_count": 0,
      "outputs": []
    },
    {
      "cell_type": "markdown",
      "metadata": {
        "id": "dTKi8l6pMF1i",
        "colab_type": "text"
      },
      "source": [
        "With the feature extraction of the input text in the form of the vector, I try testing the similarity between the given coded vectors at hand. "
      ]
    },
    {
      "cell_type": "code",
      "metadata": {
        "id": "6oa0Lgeae-RF",
        "colab_type": "code",
        "colab": {}
      },
      "source": [
        "def test_similiarity(text1, text2):\n",
        "    vc1 = input_feats(text1)[0]\n",
        "    vc2 = input_feats(text2)[0]\n",
        "    print(vc1.shape)\n",
        "    print(vc2.shape)\n",
        "    return cosine_similarity(vc1, vc2)"
      ],
      "execution_count": 0,
      "outputs": []
    },
    {
      "cell_type": "markdown",
      "metadata": {
        "id": "KJ-NqLUrhlKQ",
        "colab_type": "text"
      },
      "source": [
        "The Ranking System used here :\n",
        "\n",
        "Different embeddings+ Universal sentence encoder by Google \n",
        "\n",
        "The model is trained and optimized for greater-than-word length text for example sentences, short paragraphs. \n",
        "\n",
        "The input is variable length English text and the output is a 512 dimensional vector. The universal-sentence-encoder model is trained with a deep averaging network (DAN) encoder.\n",
        "\n",
        "1 is the highest matching ( ideal ) \n",
        "\n",
        "Ratios have been given tapped weights accordinly"
      ]
    },
    {
      "cell_type": "markdown",
      "metadata": {
        "id": "VTzyu6slSPX6",
        "colab_type": "text"
      },
      "source": [
        "Checking the working of the individual test similarities. I was having fun with the sentences, bare with the childishness ! :)"
      ]
    },
    {
      "cell_type": "code",
      "metadata": {
        "id": "6wTFBMFsTdDo",
        "colab_type": "code",
        "outputId": "400fe2ef-6186-45d8-b393-6a3fb968fc6d",
        "colab": {
          "base_uri": "https://localhost:8080/",
          "height": 140
        }
      },
      "source": [
        "test_similiarity(\"she is my heart throb, she is an angel, I can't live without her\", 'i love you')"
      ],
      "execution_count": 0,
      "outputs": [
        {
          "output_type": "stream",
          "text": [
            "INFO:tensorflow:Saver not created because there are no variables in the graph to restore\n"
          ],
          "name": "stdout"
        },
        {
          "output_type": "stream",
          "text": [
            "INFO:tensorflow:Saver not created because there are no variables in the graph to restore\n"
          ],
          "name": "stderr"
        },
        {
          "output_type": "stream",
          "text": [
            "INFO:tensorflow:Saver not created because there are no variables in the graph to restore\n"
          ],
          "name": "stdout"
        },
        {
          "output_type": "stream",
          "text": [
            "INFO:tensorflow:Saver not created because there are no variables in the graph to restore\n"
          ],
          "name": "stderr"
        },
        {
          "output_type": "stream",
          "text": [
            "(512,)\n",
            "(512,)\n"
          ],
          "name": "stdout"
        },
        {
          "output_type": "execute_result",
          "data": {
            "text/plain": [
              "0.42716095"
            ]
          },
          "metadata": {
            "tags": []
          },
          "execution_count": 129
        }
      ]
    },
    {
      "cell_type": "code",
      "metadata": {
        "id": "v-Im0fPJTcby",
        "colab_type": "code",
        "outputId": "1757e8b0-1028-4023-f1e2-4815fca18cc1",
        "colab": {
          "base_uri": "https://localhost:8080/",
          "height": 140
        }
      },
      "source": [
        "test_similiarity('he founded that company', 'that company was build by him')"
      ],
      "execution_count": 0,
      "outputs": [
        {
          "output_type": "stream",
          "text": [
            "INFO:tensorflow:Saver not created because there are no variables in the graph to restore\n"
          ],
          "name": "stdout"
        },
        {
          "output_type": "stream",
          "text": [
            "INFO:tensorflow:Saver not created because there are no variables in the graph to restore\n"
          ],
          "name": "stderr"
        },
        {
          "output_type": "stream",
          "text": [
            "INFO:tensorflow:Saver not created because there are no variables in the graph to restore\n"
          ],
          "name": "stdout"
        },
        {
          "output_type": "stream",
          "text": [
            "INFO:tensorflow:Saver not created because there are no variables in the graph to restore\n"
          ],
          "name": "stderr"
        },
        {
          "output_type": "stream",
          "text": [
            "(512,)\n",
            "(512,)\n"
          ],
          "name": "stdout"
        },
        {
          "output_type": "execute_result",
          "data": {
            "text/plain": [
              "0.9047483"
            ]
          },
          "metadata": {
            "tags": []
          },
          "execution_count": 130
        }
      ]
    },
    {
      "cell_type": "code",
      "metadata": {
        "id": "EcvYLpDzSOB5",
        "colab_type": "code",
        "outputId": "1a8add14-18db-40b7-bc4a-59c206affecb",
        "colab": {
          "base_uri": "https://localhost:8080/",
          "height": 140
        }
      },
      "source": [
        "test_similiarity('my name is jay', 'Jay,could you please pass the pizza ?')\n"
      ],
      "execution_count": 0,
      "outputs": [
        {
          "output_type": "stream",
          "text": [
            "INFO:tensorflow:Saver not created because there are no variables in the graph to restore\n"
          ],
          "name": "stdout"
        },
        {
          "output_type": "stream",
          "text": [
            "INFO:tensorflow:Saver not created because there are no variables in the graph to restore\n"
          ],
          "name": "stderr"
        },
        {
          "output_type": "stream",
          "text": [
            "INFO:tensorflow:Saver not created because there are no variables in the graph to restore\n"
          ],
          "name": "stdout"
        },
        {
          "output_type": "stream",
          "text": [
            "INFO:tensorflow:Saver not created because there are no variables in the graph to restore\n"
          ],
          "name": "stderr"
        },
        {
          "output_type": "stream",
          "text": [
            "(512,)\n",
            "(512,)\n"
          ],
          "name": "stdout"
        },
        {
          "output_type": "execute_result",
          "data": {
            "text/plain": [
              "0.38704628"
            ]
          },
          "metadata": {
            "tags": []
          },
          "execution_count": 131
        }
      ]
    },
    {
      "cell_type": "markdown",
      "metadata": {
        "id": "UDLhxkKPJR77",
        "colab_type": "text"
      },
      "source": [
        "I have added the embedding score for the similarity check as asked. I plan to take up a bit of data visualisation in form of heat map and graph and I haven't been able to complete it but the code is here for analysis."
      ]
    },
    {
      "cell_type": "code",
      "metadata": {
        "id": "240TsEmZ_e7a",
        "colab_type": "code",
        "outputId": "4adb8a77-b59d-4890-980f-270e48d8525e",
        "colab": {
          "base_uri": "https://localhost:8080/",
          "height": 1000
        }
      },
      "source": [
        "logging.set_verbosity(logging.ERROR)\n",
        "\n",
        "with tf.Session() as session:\n",
        "  session.run([tf.global_variables_initializer(), tf.tables_initializer()])\n",
        "  dataset_embeddings = session.run(embed(data))\n",
        "\n",
        "  for i, dataset_embedding in enumerate(np.array(dataset_embeddings).tolist()):\n",
        "    print(\"Complete Data: {}\".format(data[i]))\n",
        "    print(\"Embedding size: {}\".format(len(dataset_embedding)))\n",
        "    dataset_embedding_snippet = \", \".join(\n",
        "        (str(x) for x in dataset_embedding[:3]))\n",
        "    print(\"Embedding Score/Ratio: [{}, ...]\\n\".format(dataset_embedding_snippet))"
      ],
      "execution_count": 0,
      "outputs": [
        {
          "output_type": "stream",
          "text": [
            "INFO:tensorflow:Saver not created because there are no variables in the graph to restore\n"
          ],
          "name": "stdout"
        },
        {
          "output_type": "stream",
          "text": [
            "INFO:tensorflow:Saver not created because there are no variables in the graph to restore\n"
          ],
          "name": "stderr"
        },
        {
          "output_type": "stream",
          "text": [
            "Complete Data: A monopoly is a firm who is the sole seller of its product, and where there are no close substitutes. An unregulated monopoly has market power and can influence prices. Examples: Microsoft and Windows, DeBeers and diamonds, your local natural gas company.\n",
            "Embedding size: 512\n",
            "Embedding Score/Ratio: [-0.05075870826840401, 0.035883884876966476, 0.10310905426740646, ...]\n",
            "\n",
            "Complete Data: Pure or perfect competition is a theoretical market structure in which the following criteria are met: All firms sell an identical product (the product is a \"commodity\" or \"homogeneous\"). All firms are price takers (they cannot influence the market price of their product). Market share has no influence on prices. \n",
            "Embedding size: 512\n",
            "Embedding Score/Ratio: [-0.017739804461598396, 0.08158218115568161, 0.11002198606729507, ...]\n",
            "\n",
            "Complete Data: Economics is our relationship with ourselves, \n",
            "\n",
            "How we use our time, what we do for leisure, our pace,\n",
            "\n",
            "Our ratio of being to doing,\n",
            "\n",
            "Our connection to our passions, our hobbies,\n",
            "\n",
            "That which we can call our own.\n",
            "\n",
            "Our locus of control,\n",
            "\n",
            "Our sense of self-worth, \n",
            "\n",
            "Our relationship with time, seasons,\n",
            "\n",
            "How we define our identity,\n",
            "\n",
            "Our past, the quality of our present, how we envision our future.\n",
            "\n",
            "Our freedoms, our constraints,\n",
            "\n",
            "How we meet our needs,\n",
            "\n",
            "Our role in society, our mythopoetic identity.\n",
            "\n",
            "Economics defines and limits our power, our status.\n",
            "\n",
            "Economics gives us voice, votes.\n",
            "\n",
            "Economics is our relationship to each other,\n",
            "\n",
            "Whether we see each other as collaborators or competitors, separate or interconnected.\n",
            "\n",
            "Economics is our level of trust and the quality of our interactions,\n",
            "\n",
            "How we manage our housework, our child rearing,\n",
            "\n",
            "How we care and get cared for,\n",
            "\n",
            "What we give and what we get,\n",
            "\n",
            "Economics is our relationship to Earth,\n",
            "\n",
            "Our connection to land,\n",
            "\n",
            "Our sense of belonging,\n",
            "\n",
            "What we build and how we build it,\n",
            "\n",
            "What and how we eat, where our food comes from, and what happens to our waste.\n",
            "\n",
            "Whether we see the natural world as a supply house or sewer,\n",
            "\n",
            "A battlefield or lover,\n",
            "\n",
            "An animate being or our larger Self.\n",
            "\n",
            "Economics alienates, subjugates, co-creates, and empowers,\n",
            "\n",
            "Economics is myth and fact, crisis and opportunity, alive and lifeless,\n",
            "\n",
            "What is not economics?\n",
            "\n",
            "Economics is not simply the bottom line, the marketplace, the true cost, or the bank note,\n",
            "\n",
            "It’s not our first kiss,\n",
            "\n",
            "Our dreams, \n",
            "\n",
            "Our death,\n",
            "\n",
            "Or the conversations between trees. \n",
            "\n",
            "Economics is how we make meaning.\n",
            "Embedding size: 512\n",
            "Embedding Score/Ratio: [-0.024224648252129555, 0.05099325254559517, 0.06459783762693405, ...]\n",
            "\n",
            "Complete Data: Sometimes, firms may try to remove uncertainty related to acting independently and enter into price agreements with each other. This is collusion. Collusion is either formal or informal. It can take the form of cartel or price leadership.\n",
            "A cartel is an association of independent firms within the same industry which follow the common policies relating to price, output, sale, profit maximization, and the distribution of products.\n",
            "Price leadership is based on informed collusion. Under price leadership, one firm is a large or dominant firm and acts as the price leader who fixes the price for the products while the other firms allow it.\n",
            "Embedding size: 512\n",
            "Embedding Score/Ratio: [-0.026601547375321388, 0.08234168589115143, 0.10044723004102707, ...]\n",
            "\n",
            "Complete Data: Oligopoly is a market structure with a small number of firms, none of which can keep the others from having significant influence. The concentration ratio measures the market share of the largest firms. A monopoly is one firm, duopoly is two firms and oligopoly is two or more firms.\n",
            "Embedding size: 512\n",
            "Embedding Score/Ratio: [-0.05324690788984299, 0.06031753122806549, 0.1053294762969017, ...]\n",
            "\n",
            "Complete Data: At least 400 languages or more than half languages spoken by India's 1.3 billion people may die out in next 50 years, a study by the People's Linguistic Survey of India (PSLI) stated. Further claiming that India has already lost 250 languages in last five decades, the survey said, \"Each time a language is lost, the corresponding culture is killed.\n",
            "Embedding size: 512\n",
            "Embedding Score/Ratio: [0.01977744698524475, -0.02102181501686573, 0.031930021941661835, ...]\n",
            "\n"
          ],
          "name": "stdout"
        }
      ]
    },
    {
      "cell_type": "markdown",
      "metadata": {
        "id": "mxOaX_b-PIKg",
        "colab_type": "text"
      },
      "source": [
        "The embeddings produced here by the USE in the Seaborn module approximately normalized."
      ]
    },
    {
      "cell_type": "code",
      "metadata": {
        "id": "1EBL4x_rQEtj",
        "colab_type": "code",
        "colab": {}
      },
      "source": [
        "def graph_similarity(labels, features, rotation):\n",
        "  corr = np.inner(features, features)\n",
        "  #sns.set(font_scale=1.5)\n",
        "\n",
        "  g = sns.heatmap(\n",
        "      corr,\n",
        "      xticklabels=labels,\n",
        "      yticklabels=labels,\n",
        "      vmin=0,\n",
        "      vmax=1,\n",
        "      cmap=\"YlOrRd\")\n",
        "  \n",
        "  g.set_xticklabels(labels, rotation=rotation)\n",
        "  g.set_title(\"Final Semantic Textual Similarity\")\n",
        "\n",
        "def run_and_plot(session_, input_tensor_, messages_, encoding_tensor):\n",
        "  dataset_embeddings_ = session_.run(\n",
        "      encoding_tensor, feed_dict={input_tensor_: messages_})\n",
        "  graph_similarity(messages_, dataset_embeddings_, 90)"
      ],
      "execution_count": 0,
      "outputs": []
    },
    {
      "cell_type": "markdown",
      "metadata": {
        "id": "Z-M6MuUOe-Ru",
        "colab_type": "text"
      },
      "source": [
        "Using the data I defined earlier"
      ]
    },
    {
      "cell_type": "code",
      "metadata": {
        "id": "Fcc_8iOPe-Sb",
        "colab_type": "code",
        "colab": {}
      },
      "source": [
        "def semantic_search(query, datatext, vectors):\n",
        "    query = cleanup_text(query)\n",
        "    print(\"Extracting features...\")\n",
        "    query_vec = input_feats(query)[0].ravel()\n",
        "    res = []\n",
        "    for i, d in enumerate(datatext):\n",
        "        qvec = vectors[i].ravel()\n",
        "        sim = cosine_similarity(query_vec, qvec)\n",
        "        res.append((sim, d[:100], i))\n",
        "    return sorted(res, key=lambda x : x[0], reverse=True)"
      ],
      "execution_count": 0,
      "outputs": []
    },
    {
      "cell_type": "markdown",
      "metadata": {
        "id": "Gg0f1DMHe-Sl",
        "colab_type": "text"
      },
      "source": [
        "Running the related searches to find the list of what I have found !\n",
        "\n",
        "---\n",
        "\n"
      ]
    },
    {
      "cell_type": "code",
      "metadata": {
        "id": "CYb66gXDe-Sv",
        "colab_type": "code",
        "outputId": "e1a7e2cd-9e6e-43c5-8fa8-78cf4a94f242",
        "colab": {
          "base_uri": "https://localhost:8080/",
          "height": 386
        }
      },
      "source": [
        "semantic_search(\"An economy (from Greeks an area of the production, distribution and trade, as well as consumption of goods and services by different agents. Understood in its broadest sense, 'The economy is defined as a social domain that emphasize the practices, discourses, and material expressions associated with the production, use, and management of resources'.[1] Economic agents can be individuals, businesses, organizations, or governments.\", data_pre, BASE_VECTORS)"
      ],
      "execution_count": 0,
      "outputs": [
        {
          "output_type": "stream",
          "text": [
            "Extracting features...\n",
            "INFO:tensorflow:Saver not created because there are no variables in the graph to restore\n"
          ],
          "name": "stdout"
        },
        {
          "output_type": "stream",
          "text": [
            "INFO:tensorflow:Saver not created because there are no variables in the graph to restore\n"
          ],
          "name": "stderr"
        },
        {
          "output_type": "execute_result",
          "data": {
            "text/plain": [
              "[(0.6908423,\n",
              "  'economics is our relationship with ourselves how we use our time what we do for leisure our pace our',\n",
              "  2),\n",
              " (0.66913086,\n",
              "  'pure or perfect competition is a theoretical market structure in which the following criteria are me',\n",
              "  1),\n",
              " (0.61725724,\n",
              "  'sometimes firms may try to remove uncertainty related to acting independently and enter into price a',\n",
              "  3),\n",
              " (0.6168082,\n",
              "  'oligopoly is a market structure with a small number of firms none of which can keep the others from ',\n",
              "  4),\n",
              " (0.6085885,\n",
              "  'a monopoly is a firm who is the sole seller of its product and where there are no close substitutes ',\n",
              "  0),\n",
              " (0.26957786,\n",
              "  'at least languages or more than half languages spoken by india is billion people may die out in next',\n",
              "  5)]"
            ]
          },
          "metadata": {
            "tags": []
          },
          "execution_count": 136
        }
      ]
    },
    {
      "cell_type": "code",
      "metadata": {
        "id": "YpXh1tKCe-TP",
        "colab_type": "code",
        "outputId": "41498d4a-10a7-4c5d-c080-8f7105f8ff4a",
        "colab": {
          "base_uri": "https://localhost:8080/",
          "height": 386
        }
      },
      "source": [
        "semantic_search(\"\"\"Two roads diverged in a yellow wood,\n",
        "And sorry I could not travel both\n",
        "And be one traveler, long I stood\n",
        "And looked down one as far as I could\n",
        "To where it bent in the undergrowth;\n",
        "\n",
        "Then took the other, as just as fair,\n",
        "And having perhaps the better claim,\n",
        "Because it was grassy and wanted wear;\n",
        "Though as for that the passing there\n",
        "Had worn them really about the same,\n",
        "\n",
        "And both that morning equally lay\n",
        "In leaves no step had trodden black.\n",
        "Oh, I kept the first for another day!\n",
        "Yet knowing how way leads on to way,\n",
        "I doubted if I should ever come back.\n",
        "\n",
        "I shall be telling this with a sigh\n",
        "Somewhere ages and ages hence:\n",
        "Two roads diverged in a wood, and I—\n",
        "I took the one less traveled by,\n",
        "And that has made all the difference.\"\"\", data_pre, BASE_VECTORS)"
      ],
      "execution_count": 0,
      "outputs": [
        {
          "output_type": "stream",
          "text": [
            "Extracting features...\n",
            "INFO:tensorflow:Saver not created because there are no variables in the graph to restore\n"
          ],
          "name": "stdout"
        },
        {
          "output_type": "stream",
          "text": [
            "INFO:tensorflow:Saver not created because there are no variables in the graph to restore\n"
          ],
          "name": "stderr"
        },
        {
          "output_type": "execute_result",
          "data": {
            "text/plain": [
              "[(0.33185905,\n",
              "  'economics is our relationship with ourselves how we use our time what we do for leisure our pace our',\n",
              "  2),\n",
              " (0.19125633,\n",
              "  'a monopoly is a firm who is the sole seller of its product and where there are no close substitutes ',\n",
              "  0),\n",
              " (0.18236053,\n",
              "  'at least languages or more than half languages spoken by india is billion people may die out in next',\n",
              "  5),\n",
              " (0.18210985,\n",
              "  'pure or perfect competition is a theoretical market structure in which the following criteria are me',\n",
              "  1),\n",
              " (0.13147734,\n",
              "  'oligopoly is a market structure with a small number of firms none of which can keep the others from ',\n",
              "  4),\n",
              " (0.075931564,\n",
              "  'sometimes firms may try to remove uncertainty related to acting independently and enter into price a',\n",
              "  3)]"
            ]
          },
          "metadata": {
            "tags": []
          },
          "execution_count": 137
        }
      ]
    },
    {
      "cell_type": "code",
      "metadata": {
        "id": "Cd0o7Qk1e-Tg",
        "colab_type": "code",
        "outputId": "6b68a949-cc84-4c38-a590-e0472ab3cd37",
        "colab": {
          "base_uri": "https://localhost:8080/",
          "height": 386
        }
      },
      "source": [
        "semantic_search(\"We are a consultancy that helps organisations achieve exceptional results by finding and applying practical solutions to complex business and people challenges. We interrupt existing patterns of thinking and instigate powerful, sustainable change.\", data_pre, BASE_VECTORS)"
      ],
      "execution_count": 0,
      "outputs": [
        {
          "output_type": "stream",
          "text": [
            "Extracting features...\n",
            "INFO:tensorflow:Saver not created because there are no variables in the graph to restore\n"
          ],
          "name": "stdout"
        },
        {
          "output_type": "stream",
          "text": [
            "INFO:tensorflow:Saver not created because there are no variables in the graph to restore\n"
          ],
          "name": "stderr"
        },
        {
          "output_type": "execute_result",
          "data": {
            "text/plain": [
              "[(0.5856607,\n",
              "  'economics is our relationship with ourselves how we use our time what we do for leisure our pace our',\n",
              "  2),\n",
              " (0.5157189,\n",
              "  'pure or perfect competition is a theoretical market structure in which the following criteria are me',\n",
              "  1),\n",
              " (0.5058745,\n",
              "  'sometimes firms may try to remove uncertainty related to acting independently and enter into price a',\n",
              "  3),\n",
              " (0.42066348,\n",
              "  'oligopoly is a market structure with a small number of firms none of which can keep the others from ',\n",
              "  4),\n",
              " (0.38165754,\n",
              "  'a monopoly is a firm who is the sole seller of its product and where there are no close substitutes ',\n",
              "  0),\n",
              " (0.27731094,\n",
              "  'at least languages or more than half languages spoken by india is billion people may die out in next',\n",
              "  5)]"
            ]
          },
          "metadata": {
            "tags": []
          },
          "execution_count": 138
        }
      ]
    }
  ]
}